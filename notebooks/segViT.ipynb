{
 "cells": [
  {
   "cell_type": "code",
   "execution_count": 1,
   "metadata": {},
   "outputs": [
    {
     "name": "stderr",
     "output_type": "stream",
     "text": [
      "c:\\Users\\Umais\\anaconda3\\envs\\myenv\\Lib\\site-packages\\tqdm\\auto.py:21: TqdmWarning: IProgress not found. Please update jupyter and ipywidgets. See https://ipywidgets.readthedocs.io/en/stable/user_install.html\n",
      "  from .autonotebook import tqdm as notebook_tqdm\n",
      "c:\\Users\\Umais\\anaconda3\\envs\\myenv\\Lib\\site-packages\\huggingface_hub\\file_download.py:159: UserWarning: `huggingface_hub` cache-system uses symlinks by default to efficiently store duplicated files but your machine does not support them in C:\\Users\\Umais\\.cache\\huggingface\\hub\\models--facebook--maskformer-swin-base-coco. Caching files will still work but in a degraded version that might require more space on your disk. This warning can be disabled by setting the `HF_HUB_DISABLE_SYMLINKS_WARNING` environment variable. For more details, see https://huggingface.co/docs/huggingface_hub/how-to-cache#limitations.\n",
      "To support symlinks on Windows, you either need to activate Developer Mode or to run Python as an administrator. In order to see activate developer mode, see this article: https://docs.microsoft.com/en-us/windows/apps/get-started/enable-your-device-for-development\n",
      "  warnings.warn(message)\n",
      "c:\\Users\\Umais\\anaconda3\\envs\\myenv\\Lib\\site-packages\\transformers\\utils\\deprecation.py:165: FutureWarning: `max_size` is deprecated and removed starting from version 4.27.0 for `MaskFormerImageProcessor.__init__`.\n",
      "  return func(*args, **kwargs)\n",
      "`label_ids_to_fuse` unset. No instance will be fused.\n"
     ]
    },
    {
     "data": {
      "text/plain": [
       "[{'score': 0.993197,\n",
       "  'label': 'remote',\n",
       "  'mask': <PIL.Image.Image image mode=L size=640x480>},\n",
       " {'score': 0.997852,\n",
       "  'label': 'cat',\n",
       "  'mask': <PIL.Image.Image image mode=L size=640x480>},\n",
       " {'score': 0.998006,\n",
       "  'label': 'remote',\n",
       "  'mask': <PIL.Image.Image image mode=L size=640x480>},\n",
       " {'score': 0.997469,\n",
       "  'label': 'cat',\n",
       "  'mask': <PIL.Image.Image image mode=L size=640x480>}]"
      ]
     },
     "execution_count": 1,
     "metadata": {},
     "output_type": "execute_result"
    }
   ],
   "source": [
    "from transformers import pipeline\n",
    "from PIL import Image\n",
    "import requests\n",
    "\n",
    "segmentation = pipeline(\"image-segmentation\", \"facebook/maskformer-swin-base-coco\")\n",
    "\n",
    "url = \"http://images.cocodataset.org/val2017/000000039769.jpg\"\n",
    "image = Image.open(requests.get(url, stream=True).raw)\n",
    "\n",
    "results = segmentation(images=image, subtask=\"panoptic\")\n",
    "results"
   ]
  }
 ],
 "metadata": {
  "kernelspec": {
   "display_name": "myenv",
   "language": "python",
   "name": "python3"
  },
  "language_info": {
   "codemirror_mode": {
    "name": "ipython",
    "version": 3
   },
   "file_extension": ".py",
   "mimetype": "text/x-python",
   "name": "python",
   "nbconvert_exporter": "python",
   "pygments_lexer": "ipython3",
   "version": "3.11.9"
  }
 },
 "nbformat": 4,
 "nbformat_minor": 2
}
