{
 "cells": [
  {
   "cell_type": "code",
   "execution_count": 1,
   "metadata": {},
   "outputs": [
    {
     "name": "stderr",
     "output_type": "stream",
     "text": [
      "c:\\Users\\Umais\\anaconda3\\envs\\myenv\\Lib\\site-packages\\tqdm\\auto.py:21: TqdmWarning: IProgress not found. Please update jupyter and ipywidgets. See https://ipywidgets.readthedocs.io/en/stable/user_install.html\n",
      "  from .autonotebook import tqdm as notebook_tqdm\n",
      "c:\\Users\\Umais\\anaconda3\\envs\\myenv\\Lib\\site-packages\\huggingface_hub\\file_download.py:159: UserWarning: `huggingface_hub` cache-system uses symlinks by default to efficiently store duplicated files but your machine does not support them in C:\\Users\\Umais\\.cache\\huggingface\\hub\\models--Salesforce--blip-vqa-capfilt-large. Caching files will still work but in a degraded version that might require more space on your disk. This warning can be disabled by setting the `HF_HUB_DISABLE_SYMLINKS_WARNING` environment variable. For more details, see https://huggingface.co/docs/huggingface_hub/how-to-cache#limitations.\n",
      "To support symlinks on Windows, you either need to activate Developer Mode or to run Python as an administrator. In order to see activate developer mode, see this article: https://docs.microsoft.com/en-us/windows/apps/get-started/enable-your-device-for-development\n",
      "  warnings.warn(message)\n",
      "Error while downloading from https://cdn-lfs.huggingface.co/repos/ed/ac/edac964d287d3eea90a46f9621dff6c4f8e780d6e8abdbcfbf3e43a7d160c97f/d47763c493a03f5e10b6d6472b2a8d995c8cbb6d9a466eede3d033fafd94d5a4?response-content-disposition=inline%3B+filename*%3DUTF-8%27%27pytorch_model.bin%3B+filename%3D%22pytorch_model.bin%22%3B&response-content-type=application%2Foctet-stream&Expires=1723561723&Policy=eyJTdGF0ZW1lbnQiOlt7IkNvbmRpdGlvbiI6eyJEYXRlTGVzc1RoYW4iOnsiQVdTOkVwb2NoVGltZSI6MTcyMzU2MTcyM319LCJSZXNvdXJjZSI6Imh0dHBzOi8vY2RuLWxmcy5odWdnaW5nZmFjZS5jby9yZXBvcy9lZC9hYy9lZGFjOTY0ZDI4N2QzZWVhOTBhNDZmOTYyMWRmZjZjNGY4ZTc4MGQ2ZThhYmRiY2ZiZjNlNDNhN2QxNjBjOTdmL2Q0Nzc2M2M0OTNhMDNmNWUxMGI2ZDY0NzJiMmE4ZDk5NWM4Y2JiNmQ5YTQ2NmVlZGUzZDAzM2ZhZmQ5NGQ1YTQ%7EcmVzcG9uc2UtY29udGVudC1kaXNwb3NpdGlvbj0qJnJlc3BvbnNlLWNvbnRlbnQtdHlwZT0qIn1dfQ__&Signature=M5pT0G4D8gExvWG7tWciMflC1ZmKSlggujvgKGIJFpH5KQaB%7EildqzEdvzTV8WjnbL1UomDEnQpCvDCyZxzcREwbqaqmc9tTI9fVpclUWvp%7E56dx3XC11B-WawjToSDrzfuSRPo8BLdK-NQtlyOpqpwMMFyGQEvdgPLP2xmSObCZ8SenCURs9CRubIMy1ghYbWSODbpn9buGfl4ORsRa4lrYPK5m43p0p8lHmv3B5EVTscMvHIQrB1h%7EEbscO7ZDf3jhrYJe7bbEjmOoDJOfpBLbyn5-zF5hk7H9dKDEzSYCF%7EJrV%7EtbDDAZreS%7EeVnEFe1cQNGH56nII9yVd0UoLQ__&Key-Pair-Id=K3ESJI6DHPFC7: HTTPSConnectionPool(host='cdn-lfs.huggingface.co', port=443): Read timed out.\n",
      "Trying to resume download...\n"
     ]
    }
   ],
   "source": [
    "from PIL import Image\n",
    "from transformers import pipeline\n",
    "\n",
    "vqa_pipeline = pipeline(\n",
    "    \"visual-question-answering\", model=\"Salesforce/blip-vqa-capfilt-large\"\n",
    ")\n",
    "\n",
    "image = Image.open(\"elephant.jpeg\")\n",
    "question = \"Is there an elephant?\"\n",
    "\n",
    "vqa_pipeline(image, question, top_k=1)"
   ]
  }
 ],
 "metadata": {
  "kernelspec": {
   "display_name": "myenv",
   "language": "python",
   "name": "python3"
  },
  "language_info": {
   "codemirror_mode": {
    "name": "ipython",
    "version": 3
   },
   "file_extension": ".py",
   "mimetype": "text/x-python",
   "name": "python",
   "nbconvert_exporter": "python",
   "pygments_lexer": "ipython3",
   "version": "3.11.9"
  }
 },
 "nbformat": 4,
 "nbformat_minor": 2
}
